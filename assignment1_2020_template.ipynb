{
 "cells": [
  {
   "cell_type": "markdown",
   "metadata": {},
   "source": [
    "\n",
    "### The University of Melbourne, School of Computing and Information Systems\n",
    "# COMP30027 Machine Learning, 2020 Semester 1\n",
    "\n",
    "## Assignment 1: Naive Bayes Classifiers\n",
    "\n",
    "###### Submission deadline: 7 pm, Monday 20 Apr 2020"
   ]
  },
  {
   "cell_type": "markdown",
   "metadata": {},
   "source": [
    "**Student Name(s):**    `PLEASE ENTER YOUR NAME(S) HERE`\n",
    "\n",
    "**Student ID(s):**     `PLEASE ENTER YOUR ID(S) HERE`\n"
   ]
  },
  {
   "cell_type": "markdown",
   "metadata": {},
   "source": [
    "This iPython notebook is a template which you will use for your Assignment 1 submission.\n",
    "\n",
    "Marking will be applied on the four functions that are defined in this notebook, and to your responses to the questions at the end of this notebook (Submitted in a separate PDF file).\n",
    "\n",
    "**NOTE: YOU SHOULD ADD YOUR RESULTS, DIAGRAMS AND IMAGES FROM YOUR OBSERVATIONS IN THIS FILE TO YOUR REPORT (the PDF file).**\n",
    "\n",
    "You may change the prototypes of these functions, and you may write other functions, according to your requirements. We would appreciate it if the required functions were prominent/easy to find.\n",
    "\n",
    "**Adding proper comments to your code is MANDATORY. **"
   ]
  },
  {
   "cell_type": "code",
   "execution_count": 65,
   "metadata": {},
   "outputs": [],
   "source": [
    "# This function should prepare the data by reading it from a file and converting it into a useful format for training and testing\n",
    "import pandas as pd\n",
    "from collections import defaultdict\n",
    "import numpy as np\n",
    "\n",
    "def preprocess(filename, classcolumn,id_code):\n",
    "    temp = pd.read_csv(filename, skiprows=0, header=None, delimiter=';', skip_blank_lines=True)\n",
    "    df=temp[0].str.split(',',expand=True)\n",
    "    class1= df[classcolumn-1]\n",
    "    df.drop(labels=[classcolumn-1], axis=1,inplace = True)\n",
    "    df.insert(len(df.columns), 'class', class1)\n",
    "    if id_code != 'none':\n",
    "        del df[id_code]\n",
    "    data=df.values.tolist()\n",
    "    \n",
    "    return data\n"
   ]
  },
  {
   "cell_type": "code",
   "execution_count": 70,
   "metadata": {},
   "outputs": [],
   "source": [
    "def prior_func(data):\n",
    "    prob={}\n",
    "    for row in data: \n",
    "        if row[-1] in prob:\n",
    "            prob[row[-1]]+=1\n",
    "        else:\n",
    "            prob[row[-1]]=1\n",
    "    for row in prob.keys():\n",
    "        prob[row]=prob[row]/len(data)\n",
    "    return prob\n"
   ]
  },
  {
   "cell_type": "code",
   "execution_count": 80,
   "metadata": {},
   "outputs": [],
   "source": [
    "def posterior_func(data):\n",
    "    prob = defaultdict(lambda : defaultdict(lambda : defaultdict(int)))\n",
    "    \n",
    "    for row in data:\n",
    "        attr= row[:-1]\n",
    "        classes= row[-1]\n",
    "        for attr, a in enumerate(attr):\n",
    "            prob[classes][attr][a] += 1\n",
    "    for classes in prob:\n",
    "        for attr in prob[classes]:\n",
    "            l = sum(prob[classes][attr].values())\n",
    "            for a in prob[classes][attr]:\n",
    "                 prob[classes][attr][a] =  prob[classes][attr][a]/l\n",
    "    \n",
    "    \n",
    "    prob=dict(prob)\n",
    "    for classes in prob:\n",
    "        prob[classes]=dict(prob[classes])\n",
    "        for attr in prob[classes]:\n",
    "             prob[classes][attr]=dict( prob[classes][attr])\n",
    "    return prob"
   ]
  },
  {
   "cell_type": "code",
   "execution_count": 81,
   "metadata": {},
   "outputs": [
    {
     "data": {
      "text/plain": [
       "({'unacc': 0.7002314814814815,\n",
       "  'acc': 0.2222222222222222,\n",
       "  'vgood': 0.03761574074074074,\n",
       "  'good': 0.03993055555555555},\n",
       " {'unacc': {0: {'vhigh': 0.2975206611570248,\n",
       "    'high': 0.26776859504132233,\n",
       "    'med': 0.22148760330578512,\n",
       "    'low': 0.21322314049586777},\n",
       "   1: {'vhigh': 0.2975206611570248,\n",
       "    'high': 0.25950413223140495,\n",
       "    'med': 0.22148760330578512,\n",
       "    'low': 0.22148760330578512},\n",
       "   2: {'2': 0.2694214876033058,\n",
       "    '3': 0.24793388429752067,\n",
       "    '4': 0.2413223140495868,\n",
       "    '5more': 0.2413223140495868},\n",
       "   3: {'2': 0.47603305785123967,\n",
       "    '4': 0.2578512396694215,\n",
       "    'more': 0.26611570247933886},\n",
       "   4: {'small': 0.371900826446281,\n",
       "    'med': 0.3239669421487603,\n",
       "    'big': 0.30413223140495865},\n",
       "   5: {'low': 0.47603305785123967,\n",
       "    'med': 0.2950413223140496,\n",
       "    'high': 0.22892561983471074}},\n",
       "  'acc': {0: {'vhigh': 0.1875,\n",
       "    'high': 0.28125,\n",
       "    'med': 0.2994791666666667,\n",
       "    'low': 0.23177083333333334},\n",
       "   1: {'med': 0.2994791666666667,\n",
       "    'low': 0.23958333333333334,\n",
       "    'high': 0.2734375,\n",
       "    'vhigh': 0.1875},\n",
       "   2: {'2': 0.2109375, '3': 0.2578125, '4': 0.265625, '5more': 0.265625},\n",
       "   3: {'4': 0.515625, 'more': 0.484375},\n",
       "   4: {'small': 0.2734375, 'med': 0.3515625, 'big': 0.375},\n",
       "   5: {'high': 0.53125, 'med': 0.46875}},\n",
       "  'vgood': {0: {'med': 0.4, 'low': 0.6},\n",
       "   1: {'med': 0.4, 'low': 0.4, 'high': 0.2},\n",
       "   2: {'2': 0.15384615384615385,\n",
       "    '3': 0.23076923076923078,\n",
       "    '4': 0.3076923076923077,\n",
       "    '5more': 0.3076923076923077},\n",
       "   3: {'4': 0.46153846153846156, 'more': 0.5384615384615384},\n",
       "   4: {'big': 0.6153846153846154, 'med': 0.38461538461538464},\n",
       "   5: {'high': 1.0}},\n",
       "  'good': {0: {'med': 0.3333333333333333, 'low': 0.6666666666666666},\n",
       "   1: {'low': 0.6666666666666666, 'med': 0.3333333333333333},\n",
       "   2: {'2': 0.21739130434782608,\n",
       "    '3': 0.2608695652173913,\n",
       "    '4': 0.2608695652173913,\n",
       "    '5more': 0.2608695652173913},\n",
       "   3: {'4': 0.5217391304347826, 'more': 0.4782608695652174},\n",
       "   4: {'small': 0.30434782608695654,\n",
       "    'med': 0.34782608695652173,\n",
       "    'big': 0.34782608695652173},\n",
       "   5: {'high': 0.43478260869565216, 'med': 0.5652173913043478}}})"
      ]
     },
     "execution_count": 81,
     "metadata": {},
     "output_type": "execute_result"
    }
   ],
   "source": [
    "# This function should calculat prior probabilities and likelihoods from the training data and using\n",
    "# them to build a naive Bayes model\n",
    "\n",
    "def train(data):\n",
    "    return (prior_func(data),posterior_func(data))\n",
    "train(preprocess('car.data',7,'none'))\n"
   ]
  },
  {
   "cell_type": "code",
   "execution_count": null,
   "metadata": {
    "collapsed": true
   },
   "outputs": [],
   "source": [
    "# This function should predict classes for new items in a test dataset (for the purposes of this assignment, you\n",
    "# can re-use the training data as a test set)\n",
    "\n",
    "def predict():\n",
    "    return"
   ]
  },
  {
   "cell_type": "code",
   "execution_count": null,
   "metadata": {
    "collapsed": true
   },
   "outputs": [],
   "source": [
    "# This function should evaliate the prediction performance by comparing your model’s class outputs to ground\n",
    "# truth labels\n",
    "\n",
    "def evaluate():\n",
    "    return"
   ]
  },
  {
   "cell_type": "markdown",
   "metadata": {},
   "source": [
    "## Questions \n",
    "\n",
    "\n",
    "If you are in a group of 1, you will respond to question (1), and **one** other of your choosing (two responses in total).\n",
    "\n",
    "If you are in a group of 2, you will respond to question (1) and question (2), and **two** others of your choosing (four responses in total). \n",
    "\n",
    "A response to a question should take about 100–250 words, and make reference to the data wherever possible.\n",
    "\n",
    "#### NOTE: you may develope codes or functions in respond to the question, but your formal answer should be added to a separate file."
   ]
  },
  {
   "cell_type": "markdown",
   "metadata": {},
   "source": [
    "### Q1\n",
    "Try discretising the numeric attributes in these datasets and treating them as discrete variables in the na¨ıve Bayes classifier. You can use a discretisation method of your choice and group the numeric values into any number of levels (but around 3 to 5 levels would probably be a good starting point). Does discretizing the variables improve classification performance, compared to the Gaussian na¨ıve Bayes approach? Why or why not?"
   ]
  },
  {
   "cell_type": "code",
   "execution_count": null,
   "metadata": {
    "collapsed": true
   },
   "outputs": [],
   "source": []
  },
  {
   "cell_type": "markdown",
   "metadata": {},
   "source": [
    "### Q2\n",
    "Implement a baseline model (e.g., random or 0R) and compare the performance of the na¨ıve Bayes classifier to this baseline on multiple datasets. Discuss why the baseline performance varies across datasets, and to what extent the na¨ıve Bayes classifier improves on the baseline performance."
   ]
  },
  {
   "cell_type": "code",
   "execution_count": null,
   "metadata": {
    "collapsed": true
   },
   "outputs": [],
   "source": []
  },
  {
   "cell_type": "markdown",
   "metadata": {},
   "source": [
    "### Q3\n",
    "Since it’s difficult to model the probabilities of ordinal data, ordinal attributes are often treated as either nominal variables or numeric variables. Compare these strategies on the ordinal datasets provided. Deterimine which approach gives higher classification accuracy and discuss why."
   ]
  },
  {
   "cell_type": "code",
   "execution_count": null,
   "metadata": {
    "collapsed": true
   },
   "outputs": [],
   "source": []
  },
  {
   "cell_type": "markdown",
   "metadata": {},
   "source": [
    "### Q4\n",
    "Evaluating the model on the same data that we use to train the model is considered to be a major mistake in Machine Learning. Implement a hold–out or cross–validation evaluation strategy (you should implement this yourself and do not simply call existing implementations from `scikit-learn`). How does your estimate of effectiveness change, compared to testing on the training data? Explain why. (The result might surprise you!)"
   ]
  },
  {
   "cell_type": "code",
   "execution_count": null,
   "metadata": {
    "collapsed": true
   },
   "outputs": [],
   "source": []
  },
  {
   "cell_type": "markdown",
   "metadata": {},
   "source": [
    "### Q5\n",
    "Implement one of the advanced smoothing regimes (add-k, Good-Turing). Does changing the smoothing regime (or indeed, not smoothing at all) affect the effectiveness of the na¨ıve Bayes classifier? Explain why, or why not."
   ]
  },
  {
   "cell_type": "code",
   "execution_count": null,
   "metadata": {
    "collapsed": true
   },
   "outputs": [],
   "source": []
  },
  {
   "cell_type": "markdown",
   "metadata": {},
   "source": [
    "### Q6\n",
    "The Gaussian na¨ıve Bayes classifier assumes that numeric attributes come from a Gaussian distribution. Is this assumption always true for the numeric attributes in these datasets? Identify some cases where the Gaussian assumption is violated and describe any evidence (or lack thereof) that this has some effect on the NB classifier’s predictions."
   ]
  },
  {
   "cell_type": "code",
   "execution_count": null,
   "metadata": {
    "collapsed": true
   },
   "outputs": [],
   "source": []
  }
 ],
 "metadata": {
  "kernelspec": {
   "display_name": "Python 3",
   "language": "python",
   "name": "python3"
  },
  "language_info": {
   "codemirror_mode": {
    "name": "ipython",
    "version": 3
   },
   "file_extension": ".py",
   "mimetype": "text/x-python",
   "name": "python",
   "nbconvert_exporter": "python",
   "pygments_lexer": "ipython3",
   "version": "3.7.1"
  }
 },
 "nbformat": 4,
 "nbformat_minor": 4
}
