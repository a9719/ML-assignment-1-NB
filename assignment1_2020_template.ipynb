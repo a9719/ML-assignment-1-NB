{
 "cells": [
  {
   "cell_type": "markdown",
   "metadata": {},
   "source": [
    "\n",
    "### The University of Melbourne, School of Computing and Information Systems\n",
    "# COMP30027 Machine Learning, 2020 Semester 1\n",
    "\n",
    "## Assignment 1: Naive Bayes Classifiers\n",
    "\n",
    "###### Submission deadline: 7 pm, Monday 20 Apr 2020"
   ]
  },
  {
   "cell_type": "markdown",
   "metadata": {},
   "source": [
    "**Student Name(s):**    `PLEASE ENTER YOUR NAME(S) HERE`\n",
    "\n",
    "**Student ID(s):**     `PLEASE ENTER YOUR ID(S) HERE`\n"
   ]
  },
  {
   "cell_type": "markdown",
   "metadata": {},
   "source": [
    "This iPython notebook is a template which you will use for your Assignment 1 submission.\n",
    "\n",
    "Marking will be applied on the four functions that are defined in this notebook, and to your responses to the questions at the end of this notebook (Submitted in a separate PDF file).\n",
    "\n",
    "**NOTE: YOU SHOULD ADD YOUR RESULTS, DIAGRAMS AND IMAGES FROM YOUR OBSERVATIONS IN THIS FILE TO YOUR REPORT (the PDF file).**\n",
    "\n",
    "You may change the prototypes of these functions, and you may write other functions, according to your requirements. We would appreciate it if the required functions were prominent/easy to find.\n",
    "\n",
    "**Adding proper comments to your code is MANDATORY. **"
   ]
  },
  {
   "cell_type": "code",
   "execution_count": 168,
   "metadata": {},
   "outputs": [],
   "source": [
    "# This function should prepare the data by reading it from a file and converting it into a useful format for training and testing\n",
    "import pandas as pd\n",
    "from collections import defaultdict\n",
    "import numpy as np\n",
    "\n",
    "def preprocess(filename, classcolumn,id_code):\n",
    "    temp = pd.read_csv(filename, skiprows=0, header=None, delimiter=';', skip_blank_lines=True)\n",
    "    df=temp[0].str.split(',',expand=True)\n",
    "    class1= df[classcolumn-1]\n",
    "    df.drop(labels=[classcolumn-1], axis=1,inplace = True)\n",
    "    df.insert(len(df.columns), 'class', class1)\n",
    "    if id_code != 'none':\n",
    "        del df[id_code]\n",
    "    data=df.values.tolist()\n",
    "    \n",
    "    return data\n"
   ]
  },
  {
   "cell_type": "code",
   "execution_count": 169,
   "metadata": {},
   "outputs": [],
   "source": [
    "def prior_func(data):\n",
    "    prob={}\n",
    "    for row in data: \n",
    "        if row[-1] in prob:\n",
    "            prob[row[-1]]+=1\n",
    "        else:\n",
    "            prob[row[-1]]=1\n",
    "    for row in prob.keys():\n",
    "        prob[row]=prob[row]/len(data)\n",
    "    return prob\n"
   ]
  },
  {
   "cell_type": "code",
   "execution_count": 170,
   "metadata": {},
   "outputs": [],
   "source": [
    "def posterior_func(data):\n",
    "    prob = defaultdict(lambda : defaultdict(lambda : defaultdict(int)))\n",
    "    \n",
    "    for row in data:\n",
    "        attr= row[:-1]\n",
    "        classes= row[-1]\n",
    "        for attr, a in enumerate(attr):\n",
    "            prob[classes][attr][a] += 1\n",
    "    for classes in prob:\n",
    "        for attr in prob[classes]:\n",
    "            l = sum(prob[classes][attr].values())\n",
    "            for a in prob[classes][attr]:\n",
    "                 prob[classes][attr][a] =  prob[classes][attr][a]/l\n",
    "    \n",
    "    \n",
    "    prob=dict(prob)\n",
    "    for classes in prob:\n",
    "        prob[classes]=dict(prob[classes])\n",
    "        for attr in prob[classes]:\n",
    "             prob[classes][attr]=dict( prob[classes][attr])\n",
    "    return prob"
   ]
  },
  {
   "cell_type": "code",
   "execution_count": 171,
   "metadata": {},
   "outputs": [],
   "source": [
    "# This function should calculat prior probabilities and likelihoods from the training data and using\n",
    "# them to build a naive Bayes model\n",
    "\n",
    "def train(data):\n",
    "    return (prior_func(data),posterior_func(data))\n"
   ]
  },
  {
   "cell_type": "code",
   "execution_count": 172,
   "metadata": {},
   "outputs": [],
   "source": [
    "# This function should predict classes for new items in a test dataset (for the purposes of this assignment, you\n",
    "# can re-use the training data as a test set)\n",
    "def predict(preprocessed_data, trained_set):\n",
    "   \n",
    "    prior_prob, post_prob= trained_set[0], trained_set[1]\n",
    "    length= len(preprocessed_data)\n",
    "    predicted_class=[]\n",
    "    for row in preprocessed_data:\n",
    "        prediction ={}\n",
    "        for a, b in prior_prob.items():\n",
    "            prediction[a]=b\n",
    "            for i in range(len(row)-1):\n",
    "                if row[i] in post_prob[a][i]:\n",
    "                    prediction[a] =prediction[a]* post_prob[a][i][row[i]]\n",
    "                else:\n",
    "                    prediction[a]= prediction[a]*0.01\n",
    "                    prediction[a]= prediction[a]/length\n",
    "        max_key = max(prediction, key=prediction.get)\n",
    "        predicted_class.append(max_key)\n",
    "    \n",
    "    return predicted_class\n"
   ]
  },
  {
   "cell_type": "code",
   "execution_count": 173,
   "metadata": {},
   "outputs": [],
   "source": [
    "# This function should evaliate the prediction performance by comparing your model’s class outputs to ground\n",
    "# truth labels\n",
    "\n",
    "def evaluate(filename, classcolumn,id_code):\n",
    "    preprocessed_data=preprocess(filename, classcolumn,id_code)\n",
    "    trained_set=train(preprocessed_data)\n",
    "    total=0\n",
    "    predict1=predict(preprocessed_data, trained_set)\n",
    "    count=len(preprocessed_data)\n",
    "    \n",
    "    for a in range(count):\n",
    "        if  preprocessed_data[a][-1]== predict1[a]:\n",
    "            total=total+1\n",
    "    \n",
    "    \n",
    "    accuracy= total/count\n",
    "    \n",
    "    \n",
    "    return accuracy*100\n"
   ]
  },
  {
   "cell_type": "code",
   "execution_count": null,
   "metadata": {},
   "outputs": [],
   "source": []
  },
  {
   "cell_type": "code",
   "execution_count": 184,
   "metadata": {},
   "outputs": [
    {
     "name": "stdout",
     "output_type": "stream",
     "text": [
      "breast-cancer-wisconsin.data      98.14020028612303\n",
      "mushroom.data      99.1506646971935\n",
      "lymphography.data      89.1891891891892\n",
      "wine.data      100.0\n",
      "car.data      87.38425925925925\n",
      "nursery.data      90.30864197530865\n",
      "somerville.data      67.13286713286713\n",
      "adult.data      93.78704585240011\n",
      "bank.data      92.33814779589038\n",
      "university.data      93.10344827586206\n",
      "wdbc.data      100.0\n"
     ]
    }
   ],
   "source": [
    "list_datasets=[[\"breast-cancer-wisconsin.data\",11,1],[\"mushroom.data\",1,\"none\"],[\"lymphography.data\",1,\"none\"],\n",
    "               [\"wine.data\",1,\"none\"],[\"car.data\",7,\"none\"],[\"nursery.data\",9,\"none\"],[\"somerville.data\",1,\"none\"],\n",
    "               [\"adult.data\",15,\"none\"],[\"bank.data\",15,\"none\"],[\"university.data\",14,0],[\"wdbc.data\",2,0]]\n",
    "\n",
    "for a in range(len(list_datasets)):\n",
    "    print(str(list_datasets[a][0])+'      '+str(evaluate(list_datasets[a][0],list_datasets[a][1],list_datasets[a][2])))\n",
    "    "
   ]
  },
  {
   "cell_type": "markdown",
   "metadata": {},
   "source": [
    "## Questions \n",
    "\n",
    "\n",
    "If you are in a group of 1, you will respond to question (1), and **one** other of your choosing (two responses in total).\n",
    "\n",
    "If you are in a group of 2, you will respond to question (1) and question (2), and **two** others of your choosing (four responses in total). \n",
    "\n",
    "A response to a question should take about 100–250 words, and make reference to the data wherever possible.\n",
    "\n",
    "#### NOTE: you may develope codes or functions in respond to the question, but your formal answer should be added to a separate file."
   ]
  },
  {
   "cell_type": "markdown",
   "metadata": {},
   "source": [
    "### Q1\n",
    "Try discretising the numeric attributes in these datasets and treating them as discrete variables in the na¨ıve Bayes classifier. You can use a discretisation method of your choice and group the numeric values into any number of levels (but around 3 to 5 levels would probably be a good starting point). Does discretizing the variables improve classification performance, compared to the Gaussian na¨ıve Bayes approach? Why or why not?"
   ]
  },
  {
   "cell_type": "code",
   "execution_count": 296,
   "metadata": {},
   "outputs": [
    {
     "name": "stdout",
     "output_type": "stream",
     "text": [
      "    0  1  2  3  4  5  6  7  8   9  ... 21 22 23 24 25 26 27 28 29 30\n",
      "0    3  1  3  2  6  5  4  4  6  10 ...  1  3  2  4  3  3  6  4  4  M\n",
      "1    3  2  3  2  6  2  2  4  3  10 ...  2  3  2  4  0  1  3  3  4  M\n",
      "2    3  2  3  2  6  2  2  4  6  10 ...  2  3  2  4  2  2  6  3  4  M\n",
      "3    2  2  2  0  6  5  4  4  6  10 ...  2  1  0  8  4  3  6  6  4  M\n",
      "4    3  1  3  2  6  2  2  4  3  10 ...  1  3  1  4  1  1  3  3  4  M\n",
      "5    2  2  2  0  6  2  2  4  6  10 ...  2  2  0  4  2  2  3  3  4  M\n",
      "6    3  2  3  2  6  2  2  4  3  10 ...  2  3  1  4  1  1  3  3  4  M\n",
      "7    2  2  2  1  6  2  2  4  6  10 ...  2  2  1  4  1  1  3  3  4  M\n",
      "8    2  2  2  1  6  2  2  4  6  10 ...  3  2  0  4  2  2  6  4  4  M\n",
      "9    2  3  2  0  6  5  4  4  6  10 ...  4  1  0  4  5  4  6  4  9  M\n",
      "10   2  2  2  1  6  2  2  4  3  10 ...  3  2  1  4  0  0  3  3  4  M\n",
      "11   2  2  2  1  6  2  2  4  3  10 ...  2  2  1  4  2  1  3  3  4  M\n",
      "12   3  3  3  2  6  5  4  4  6  10 ...  3  3  1  4  1  1  3  3  4  M\n",
      "13   2  3  2  1  6  2  2  4  3  10 ...  2  2  1  4  0  1  3  3  4  M\n",
      "14   2  2  2  1  6  5  4  4  6  10 ...  3  2  0  4  3  3  6  3  4  M\n",
      "15   2  3  2  1  6  2  2  4  6  10 ...  3  2  1  4  3  3  3  4  4  M\n",
      "16   2  2  2  1  6  2  2  4  3  10 ...  3  2  1  4  0  1  3  3  4  M\n",
      "17   2  2  2  1  6  5  2  4  6  10 ...  3  2  1  4  2  2  6  3  4  M\n",
      "18   3  2  3  2  6  2  2  4  3  10 ...  3  3  2  4  1  2  6  3  4  M\n",
      "19   2  1  2  1  6  2  2  4  3  10 ...  1  1  0  4  0  1  3  3  4  B\n",
      "20   2  2  2  1  6  2  2  4  3  10 ...  2  1  0  4  1  0  3  3  4  B\n",
      "21   1  1  1  0  6  2  2  4  3  10 ...  1  1  0  4  0  0  3  3  4  B\n",
      "22   2  1  2  1  6  5  4  4  6  10 ...  1  2  1  4  2  3  6  4  4  M\n",
      "23   3  2  3  2  6  2  2  4  3  10 ...  3  3  3  4  1  1  6  3  4  M\n",
      "24   2  2  2  1  6  2  2  4  3  10 ...  3  3  2  4  1  2  6  3  4  M\n",
      "25   3  2  3  1  6  5  4  4  6  10 ...  2  3  1  4  1  1  6  4  4  M\n",
      "26   2  2  2  1  6  2  2  4  6  10 ...  3  2  1  4  3  2  6  4  4  M\n",
      "27   3  2  3  2  6  2  2  4  3  10 ...  2  2  1  4  1  1  3  3  4  M\n",
      "28   2  3  2  1  6  2  2  4  3  10 ...  3  2  1  4  3  3  6  4  4  M\n",
      "29   3  1  3  1  6  2  2  4  3  10 ...  1  2  1  4  1  1  3  3  4  M\n",
      "..  .. .. .. .. .. .. .. .. ..  .. ... .. .. .. .. .. .. .. .. .. ..\n",
      "539  1  3  1  0  6  2  2  4  6  10 ...  3  1  0  4  1  1  3  3  4  B\n",
      "540  2  1  1  0  6  2  2  4  3  10 ...  1  1  0  4  1  0  3  3  4  B\n",
      "541  2  3  2  1  6  2  2  4  3  10 ...  3  2  0  4  2  2  3  3  4  B\n",
      "542  2  3  2  1  6  2  2  4  3  10 ...  3  2  0  4  0  0  3  3  4  B\n",
      "543  2  3  2  1  6  2  2  4  3  10 ...  3  1  0  4  0  0  3  3  4  B\n",
      "544  2  2  2  1  6  2  2  4  3  10 ...  2  1  0  4  1  0  3  3  4  B\n",
      "545  2  2  2  1  6  2  2  4  3  10 ...  2  1  0  4  0  0  3  3  4  B\n",
      "546  1  2  1  0  6  2  2  4  3  10 ...  2  1  0  4  0  0  3  3  4  B\n",
      "547  1  2  1  0  6  2  2  4  3  10 ...  2  1  0  4  1  0  3  3  4  B\n",
      "548  1  2  1  0  6  2  2  4  3  10 ...  2  1  0  4  0  0  3  3  4  B\n",
      "549  1  3  1  0  6  2  2  4  3  10 ...  3  1  0  4  0  0  3  3  4  B\n",
      "550  1  2  1  0  6  2  0  0  3  10 ...  2  1  0  4  0  0  0  3  4  B\n",
      "551  1  2  1  0  6  2  2  4  6  10 ...  2  1  0  4  0  0  3  3  4  B\n",
      "552  2  3  2  1  6  2  2  4  3  10 ...  3  1  0  4  0  0  3  3  4  B\n",
      "553  1  2  1  0  6  2  2  4  3  10 ...  2  1  0  4  0  0  3  3  4  B\n",
      "554  2  3  2  1  6  2  2  4  3  10 ...  3  1  0  4  0  1  3  3  4  B\n",
      "555  1  3  1  0  6  2  2  4  3  10 ...  3  1  0  4  0  0  3  3  4  B\n",
      "556  1  2  1  0  6  2  2  4  3  10 ...  2  1  0  4  0  0  3  3  4  B\n",
      "557  1  3  1  0  6  2  0  0  3  10 ...  3  1  0  4  0  0  0  3  4  B\n",
      "558  2  2  2  1  6  2  2  4  3  10 ...  2  2  0  4  1  1  3  3  4  B\n",
      "559  2  3  1  0  6  2  2  4  3  10 ...  3  1  0  4  1  1  3  3  4  B\n",
      "560  2  3  2  1  6  2  2  4  3  10 ...  3  1  0  4  1  0  3  3  4  B\n",
      "561  1  3  1  0  6  2  0  0  3  10 ...  3  1  0  4  0  0  0  1  4  B\n",
      "562  2  3  2  1  6  5  4  4  6  10 ...  4  2  1  4  3  4  6  4  4  M\n",
      "563  3  3  3  2  6  5  4  4  6  10 ...  2  3  2  4  2  3  6  3  4  M\n",
      "564  3  2  3  2  6  2  4  4  3  10 ...  2  3  2  4  1  2  6  3  4  M\n",
      "565  3  3  3  2  6  2  2  4  3  10 ...  3  3  2  4  0  1  3  3  4  M\n",
      "566  2  3  2  1  6  2  2  4  3  10 ...  3  2  1  4  1  1  3  3  4  M\n",
      "567  3  3  3  2  6  5  4  4  6  10 ...  3  3  2  4  4  3  6  4  4  M\n",
      "568  1  3  1  0  6  2  0  0  3  10 ...  3  1  0  4  0  0  0  3  4  B\n",
      "\n",
      "[569 rows x 31 columns]\n"
     ]
    },
    {
     "data": {
      "text/plain": [
       "100.0"
      ]
     },
     "execution_count": 296,
     "metadata": {},
     "output_type": "execute_result"
    }
   ],
   "source": [
    "from pandas import DataFrame\n",
    "import math\n",
    "import pandas\n",
    "df=preprocess(\"wdbc.data\",2,0)\n",
    "df= DataFrame(df)\n",
    "\n",
    "classes= df[30]\n",
    "for i in range(30):\n",
    "    k=0\n",
    "    k=df[i].astype(float).max()\n",
    "    for j in range(569):\n",
    "        df[i][j]= math.floor(math.ceil(float(df[i][j]) * 5) / k)\n",
    "print (df)\n",
    "df.to_csv(r'C:\\Users\\ANEESH CHATTARAJ\\Desktop\\comp30027\\2020\\assignment1_2020_datasets\\Name11.data', index = False)\n",
    "\n",
    "evaluate('Name11.data',30,\"none\")\n",
    "\n",
    "\n"
   ]
  },
  {
   "cell_type": "code",
   "execution_count": 298,
   "metadata": {},
   "outputs": [
    {
     "name": "stdout",
     "output_type": "stream",
     "text": [
      "    0  1  2  3  4  5  6  7  8  9  10 11 12 13\n",
      "0    4  1  4  2  3  3  3  3  3  2  3  5  3  1\n",
      "1    4  1  3  1  3  3  2  3  1  1  3  4  3  1\n",
      "2    4  2  4  3  3  3  3  3  4  2  3  4  3  1\n",
      "3    4  1  4  2  3  5  3  3  3  3  2  4  4  1\n",
      "4    4  2  4  3  3  3  2  3  2  1  3  3  2  1\n",
      "5    4  1  4  2  3  4  3  3  2  2  3  3  4  1\n",
      "6    4  1  4  2  2  3  2  3  2  2  3  4  3  1\n",
      "7    4  1  4  2  3  3  2  3  1  2  3  4  3  1\n",
      "8    5  1  3  2  2  3  2  3  2  2  3  3  3  1\n",
      "9    4  1  3  2  3  3  3  3  2  2  3  4  3  1\n",
      "10   4  1  3  3  3  3  3  3  3  2  4  4  4  1\n",
      "11   4  1  3  2  2  2  2  3  2  1  3  3  3  1\n",
      "12   4  1  4  2  2  3  2  3  2  2  3  3  3  1\n",
      "13   4  1  3  1  2  4  3  4  4  2  4  3  3  1\n",
      "14   4  1  3  2  3  4  3  3  4  2  3  3  4  1\n",
      "15   4  1  4  2  3  3  2  3  2  2  4  3  3  1\n",
      "16   4  1  4  3  3  3  3  3  2  2  3  3  3  1\n",
      "17   4  1  4  3  3  3  3  3  2  2  3  3  3  1\n",
      "18   4  1  4  2  3  4  3  3  2  3  4  3  5  1\n",
      "19   4  2  4  2  3  3  3  1  2  2  2  4  2  1\n",
      "20   4  1  3  2  3  3  3  3  3  2  3  4  2  1\n",
      "21   4  3  4  3  3  3  2  3  2  1  3  4  2  1\n",
      "22   4  1  3  2  3  3  2  3  2  1  3  5  3  1\n",
      "23   4  1  4  2  2  3  2  3  2  1  3  4  3  1\n",
      "24   4  1  4  3  2  3  2  3  2  1  3  5  2  1\n",
      "25   4  1  5  4  3  3  2  4  2  1  3  4  2  1\n",
      "26   4  1  4  2  2  3  2  3  2  1  2  4  3  1\n",
      "27   4  1  3  2  2  3  2  3  1  1  3  3  3  1\n",
      "28   4  1  4  3  3  3  2  3  2  1  4  4  2  1\n",
      "29   4  1  3  2  2  3  2  3  2  1  3  4  3  1\n",
      "..  .. .. .. .. .. .. .. .. .. .. .. .. .. ..\n",
      "148  4  2  3  3  2  2  0  4  1  3  1  2  1  3\n",
      "149  4  3  3  3  3  2  1  3  1  3  1  1  1  3\n",
      "150  4  2  4  4  3  1  1  3  1  3  1  1  1  3\n",
      "151  4  2  4  3  3  2  1  3  1  4  1  2  1  3\n",
      "152  4  1  4  4  3  2  1  3  2  2  2  1  1  3\n",
      "153  4  2  3  3  3  2  0  6  2  4  1  2  2  3\n",
      "154  4  1  3  3  3  2  0  4  1  2  1  2  1  3\n",
      "155  4  4  3  3  2  2  0  6  2  3  1  2  2  3\n",
      "156  4  3  3  3  2  2  0  4  2  3  1  2  1  3\n",
      "157  4  2  4  4  2  2  0  6  1  2  2  2  2  3\n",
      "158  4  1  4  4  3  3  1  4  3  5  1  2  1  3\n",
      "159  4  1  4  3  2  3  1  4  3  4  1  2  1  3\n",
      "160  4  3  3  3  2  3  0  4  1  3  1  2  1  3\n",
      "161  4  2  4  3  3  2  0  4  1  2  2  2  2  3\n",
      "162  4  2  4  3  3  2  0  4  1  2  2  2  1  3\n",
      "163  4  3  3  3  3  1  0  3  1  2  2  2  2  3\n",
      "164  4  2  3  3  2  1  0  4  1  3  2  2  1  3\n",
      "165  4  3  3  3  2  1  0  4  1  2  2  2  1  3\n",
      "166  4  3  4  3  3  2  0  4  2  4  2  2  2  3\n",
      "167  4  2  3  3  2  2  0  3  1  4  2  2  2  3\n",
      "168  4  2  4  4  3  2  0  3  2  3  2  2  2  3\n",
      "169  4  3  4  4  3  2  0  3  1  3  2  2  1  3\n",
      "170  4  2  3  3  2  1  0  3  1  2  2  2  1  3\n",
      "171  4  2  3  3  2  1  0  4  1  3  1  2  1  3\n",
      "172  4  2  4  3  2  2  0  4  1  3  2  2  1  3\n",
      "173  4  5  4  3  2  2  0  4  1  3  2  2  2  3\n",
      "174  4  3  4  3  3  2  0  4  2  2  2  2  2  3\n",
      "175  4  3  3  3  3  2  0  4  1  3  1  2  2  3\n",
      "176  4  2  3  3  3  2  0  4  2  3  1  2  2  3\n",
      "177  4  3  4  4  2  2  0  4  1  3  2  2  1  3\n",
      "\n",
      "[178 rows x 14 columns]\n"
     ]
    },
    {
     "data": {
      "text/plain": [
       "96.64804469273743"
      ]
     },
     "execution_count": 298,
     "metadata": {},
     "output_type": "execute_result"
    }
   ],
   "source": [
    "df=preprocess(\"wine.data\",1,\"none\")\n",
    "df= DataFrame(df)\n",
    "\n",
    "classes= df[0]\n",
    "for i in range(13):\n",
    "    k=0\n",
    "    k=df[i].astype(float).max()\n",
    "    for j in range(178):\n",
    "        df[i][j]= math.floor(math.ceil(float(df[i][j]) * 5) / k)\n",
    "print (df)\n",
    "df.to_csv(r'C:\\Users\\ANEESH CHATTARAJ\\Desktop\\comp30027\\2020\\assignment1_2020_datasets\\Name111.data', index = False)\n",
    "evaluate('Name111.data',14,\"none\")\n",
    "    \n",
    "    "
   ]
  },
  {
   "cell_type": "markdown",
   "metadata": {},
   "source": [
    "### Q2\n",
    "Implement a baseline model (e.g., random or 0R) and compare the performance of the na¨ıve Bayes classifier to this baseline on multiple datasets. Discuss why the baseline performance varies across datasets, and to what extent the na¨ıve Bayes classifier improves on the baseline performance."
   ]
  },
  {
   "cell_type": "code",
   "execution_count": 327,
   "metadata": {},
   "outputs": [
    {
     "name": "stdout",
     "output_type": "stream",
     "text": [
      "0.6274165202108963\n"
     ]
    }
   ],
   "source": [
    "def zero_rule_algorithm_classification(train, test):\n",
    "    output_values = [row[-1] for row in train]\n",
    "    prediction = max(set(output_values), key=output_values.count)\n",
    "    predicted = [prediction for i in range(len(test))]\n",
    "    return predicted\n",
    "df=preprocess(\"wdbc.data\",2,0)\n",
    "\n",
    "total=0\n",
    "k=zero_rule_algorithm_classification(df,df)\n",
    "output_values = [row[-1] for row in df]\n",
    "\n",
    "for a in range(len(df)):\n",
    "      \n",
    "        if  k[a]== output_values[a]:\n",
    "            total=total+1\n",
    "        accuracy= total/len(df)\n",
    "print(accuracy)\n"
   ]
  },
  {
   "cell_type": "markdown",
   "metadata": {},
   "source": [
    "### Q3\n",
    "Since it’s difficult to model the probabilities of ordinal data, ordinal attributes are often treated as either nominal variables or numeric variables. Compare these strategies on the ordinal datasets provided. Deterimine which approach gives higher classification accuracy and discuss why."
   ]
  },
  {
   "cell_type": "code",
   "execution_count": null,
   "metadata": {
    "collapsed": true
   },
   "outputs": [],
   "source": []
  },
  {
   "cell_type": "markdown",
   "metadata": {},
   "source": [
    "### Q4\n",
    "Evaluating the model on the same data that we use to train the model is considered to be a major mistake in Machine Learning. Implement a hold–out or cross–validation evaluation strategy (you should implement this yourself and do not simply call existing implementations from `scikit-learn`). How does your estimate of effectiveness change, compared to testing on the training data? Explain why. (The result might surprise you!)"
   ]
  },
  {
   "cell_type": "code",
   "execution_count": null,
   "metadata": {
    "collapsed": true
   },
   "outputs": [],
   "source": []
  },
  {
   "cell_type": "markdown",
   "metadata": {},
   "source": [
    "### Q5\n",
    "Implement one of the advanced smoothing regimes (add-k, Good-Turing). Does changing the smoothing regime (or indeed, not smoothing at all) affect the effectiveness of the na¨ıve Bayes classifier? Explain why, or why not."
   ]
  },
  {
   "cell_type": "code",
   "execution_count": null,
   "metadata": {
    "collapsed": true
   },
   "outputs": [],
   "source": []
  },
  {
   "cell_type": "markdown",
   "metadata": {},
   "source": [
    "### Q6\n",
    "The Gaussian na¨ıve Bayes classifier assumes that numeric attributes come from a Gaussian distribution. Is this assumption always true for the numeric attributes in these datasets? Identify some cases where the Gaussian assumption is violated and describe any evidence (or lack thereof) that this has some effect on the NB classifier’s predictions."
   ]
  },
  {
   "cell_type": "code",
   "execution_count": null,
   "metadata": {
    "collapsed": true
   },
   "outputs": [],
   "source": []
  }
 ],
 "metadata": {
  "kernelspec": {
   "display_name": "Python 3",
   "language": "python",
   "name": "python3"
  },
  "language_info": {
   "codemirror_mode": {
    "name": "ipython",
    "version": 3
   },
   "file_extension": ".py",
   "mimetype": "text/x-python",
   "name": "python",
   "nbconvert_exporter": "python",
   "pygments_lexer": "ipython3",
   "version": "3.7.1"
  }
 },
 "nbformat": 4,
 "nbformat_minor": 4
}
