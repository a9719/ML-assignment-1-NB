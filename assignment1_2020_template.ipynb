{
 "cells": [
  {
   "cell_type": "markdown",
   "metadata": {},
   "source": [
    "\n",
    "### The University of Melbourne, School of Computing and Information Systems\n",
    "# COMP30027 Machine Learning, 2020 Semester 1\n",
    "\n",
    "## Assignment 1: Naive Bayes Classifiers\n",
    "\n",
    "###### Submission deadline: 7 pm, Monday 20 Apr 2020"
   ]
  },
  {
   "cell_type": "markdown",
   "metadata": {},
   "source": [
    "**Student Name(s):**    `PLEASE ENTER YOUR NAME(S) HERE`\n",
    "\n",
    "**Student ID(s):**     `PLEASE ENTER YOUR ID(S) HERE`\n"
   ]
  },
  {
   "cell_type": "markdown",
   "metadata": {},
   "source": [
    "This iPython notebook is a template which you will use for your Assignment 1 submission.\n",
    "\n",
    "Marking will be applied on the four functions that are defined in this notebook, and to your responses to the questions at the end of this notebook (Submitted in a separate PDF file).\n",
    "\n",
    "**NOTE: YOU SHOULD ADD YOUR RESULTS, DIAGRAMS AND IMAGES FROM YOUR OBSERVATIONS IN THIS FILE TO YOUR REPORT (the PDF file).**\n",
    "\n",
    "You may change the prototypes of these functions, and you may write other functions, according to your requirements. We would appreciate it if the required functions were prominent/easy to find.\n",
    "\n",
    "**Adding proper comments to your code is MANDATORY. **"
   ]
  },
  {
   "cell_type": "code",
   "execution_count": 88,
   "metadata": {},
   "outputs": [],
   "source": [
    "# This function should prepare the data by reading it from a file and converting it into a useful format for training and testing\n",
    "import pandas as pd\n",
    "from collections import defaultdict\n",
    "import numpy as np\n",
    "\n",
    "def preprocess(filename, classcolumn,id_code):\n",
    "    temp = pd.read_csv(filename, skiprows=0, header=None, delimiter=';', skip_blank_lines=True)\n",
    "    df=temp[0].str.split(',',expand=True)\n",
    "    class1= df[classcolumn-1]\n",
    "    df.drop(labels=[classcolumn-1], axis=1,inplace = True)\n",
    "    df.insert(len(df.columns), 'class', class1)\n",
    "    if id_code != 'none':\n",
    "        del df[id_code]\n",
    "    data=df.values.tolist()\n",
    "    \n",
    "    return data\n"
   ]
  },
  {
   "cell_type": "code",
   "execution_count": 89,
   "metadata": {},
   "outputs": [],
   "source": [
    "def prior_func(data):\n",
    "    prob={}\n",
    "    for row in data: \n",
    "        if row[-1] in prob:\n",
    "            prob[row[-1]]+=1\n",
    "        else:\n",
    "            prob[row[-1]]=1\n",
    "    for row in prob.keys():\n",
    "        prob[row]=prob[row]/len(data)\n",
    "    return prob\n"
   ]
  },
  {
   "cell_type": "code",
   "execution_count": 90,
   "metadata": {},
   "outputs": [],
   "source": [
    "def posterior_func(data):\n",
    "    prob = defaultdict(lambda : defaultdict(lambda : defaultdict(int)))\n",
    "    \n",
    "    for row in data:\n",
    "        attr= row[:-1]\n",
    "        classes= row[-1]\n",
    "        for attr, a in enumerate(attr):\n",
    "            prob[classes][attr][a] += 1\n",
    "    for classes in prob:\n",
    "        for attr in prob[classes]:\n",
    "            l = sum(prob[classes][attr].values())\n",
    "            for a in prob[classes][attr]:\n",
    "                 prob[classes][attr][a] =  prob[classes][attr][a]/l\n",
    "    \n",
    "    \n",
    "    prob=dict(prob)\n",
    "    for classes in prob:\n",
    "        prob[classes]=dict(prob[classes])\n",
    "        for attr in prob[classes]:\n",
    "             prob[classes][attr]=dict( prob[classes][attr])\n",
    "    return prob"
   ]
  },
  {
   "cell_type": "code",
   "execution_count": 91,
   "metadata": {},
   "outputs": [],
   "source": [
    "# This function should calculat prior probabilities and likelihoods from the training data and using\n",
    "# them to build a naive Bayes model\n",
    "\n",
    "def train(data):\n",
    "    return (prior_func(data),posterior_func(data))\n"
   ]
  },
  {
   "cell_type": "code",
   "execution_count": 133,
   "metadata": {},
   "outputs": [],
   "source": [
    "# This function should predict classes for new items in a test dataset (for the purposes of this assignment, you\n",
    "# can re-use the training data as a test set)\n",
    "def predict(preprocessed_data, trained_set):\n",
    "    \n",
    "    prior_prob, post_prob= trained_set[0], trained_set[1]\n",
    "    length= len(preprocessed_data)\n",
    "    predicted_class=[]\n",
    "    for row in preprocessed_data:\n",
    "        prediction ={}\n",
    "        for a, b in prior_prob.items():\n",
    "            prediction[a]=b\n",
    "            for i in range(len(row)-1):\n",
    "                if row[i] in post_prob[a][i]:\n",
    "                    prediction[a] =prediction[a]* post_prob[a][i][row[i]]\n",
    "                else:\n",
    "                    prediction[a]= prediction[a]*0.01\n",
    "                    prediction[a]= prediction[a]/length\n",
    "        max_key = max(prediction, key=prediction.get)\n",
    "        predicted_class.append(max_key)\n",
    "    \n",
    "    return predicted_class\n"
   ]
  },
  {
   "cell_type": "code",
   "execution_count": 135,
   "metadata": {},
   "outputs": [
    {
     "data": {
      "text/plain": [
       "92.33814779589038"
      ]
     },
     "execution_count": 135,
     "metadata": {},
     "output_type": "execute_result"
    }
   ],
   "source": [
    "# This function should evaliate the prediction performance by comparing your model’s class outputs to ground\n",
    "# truth labels\n",
    "\n",
    "def evaluate(filename, classcolumn,id_code):\n",
    "    preprocessed_data=preprocess(filename, classcolumn,id_code)\n",
    "    trained_set=train(preprocessed_data)\n",
    "    total=0\n",
    "    predict1=predict(preprocessed_data, trained_set)\n",
    "    count=len(preprocessed_data)\n",
    "    \n",
    "    for a in range(count):\n",
    "        if  preprocessed_data[a][-1]== predict1[a]:\n",
    "            total=total+1\n",
    "    \n",
    "    \n",
    "    accuracy= total/count\n",
    "    \n",
    "    \n",
    "    return accuracy*100\n"
   ]
  },
  {
   "cell_type": "code",
   "execution_count": null,
   "metadata": {},
   "outputs": [
    {
     "name": "stdout",
     "output_type": "stream",
     "text": [
      "98.14020028612303\n",
      "99.1506646971935\n",
      "89.1891891891892\n",
      "100.0\n",
      "87.38425925925925\n",
      "90.30864197530865\n",
      "67.13286713286713\n"
     ]
    }
   ],
   "source": [
    "list_datasets=[[\"breast-cancer-wisconsin.data\",11,1],[\"mushroom.data\",1,\"none\"],[\"lymphography.data\",1,\"none\"],\n",
    "               [\"wine.data\",1,\"none\"],[\"car.data\",7,\"none\"],[\"nursery.data\",9,\"none\"],[\"somerville.data\",1,\"none\"],\n",
    "               [\"adult.data\",15,\"none\"],[\"bank.data\",15,\"none\"],[\"university.data\",1,1]]\n",
    "\n",
    "for a in range(len(list_datasets)):\n",
    "    print(evaluate(list_datasets[a][0],list_datasets[a][1],list_datasets[a][2]))\n",
    "    "
   ]
  },
  {
   "cell_type": "markdown",
   "metadata": {},
   "source": [
    "## Questions \n",
    "\n",
    "\n",
    "If you are in a group of 1, you will respond to question (1), and **one** other of your choosing (two responses in total).\n",
    "\n",
    "If you are in a group of 2, you will respond to question (1) and question (2), and **two** others of your choosing (four responses in total). \n",
    "\n",
    "A response to a question should take about 100–250 words, and make reference to the data wherever possible.\n",
    "\n",
    "#### NOTE: you may develope codes or functions in respond to the question, but your formal answer should be added to a separate file."
   ]
  },
  {
   "cell_type": "markdown",
   "metadata": {},
   "source": [
    "### Q1\n",
    "Try discretising the numeric attributes in these datasets and treating them as discrete variables in the na¨ıve Bayes classifier. You can use a discretisation method of your choice and group the numeric values into any number of levels (but around 3 to 5 levels would probably be a good starting point). Does discretizing the variables improve classification performance, compared to the Gaussian na¨ıve Bayes approach? Why or why not?"
   ]
  },
  {
   "cell_type": "code",
   "execution_count": null,
   "metadata": {
    "collapsed": true
   },
   "outputs": [],
   "source": []
  },
  {
   "cell_type": "markdown",
   "metadata": {},
   "source": [
    "### Q2\n",
    "Implement a baseline model (e.g., random or 0R) and compare the performance of the na¨ıve Bayes classifier to this baseline on multiple datasets. Discuss why the baseline performance varies across datasets, and to what extent the na¨ıve Bayes classifier improves on the baseline performance."
   ]
  },
  {
   "cell_type": "code",
   "execution_count": null,
   "metadata": {
    "collapsed": true
   },
   "outputs": [],
   "source": []
  },
  {
   "cell_type": "markdown",
   "metadata": {},
   "source": [
    "### Q3\n",
    "Since it’s difficult to model the probabilities of ordinal data, ordinal attributes are often treated as either nominal variables or numeric variables. Compare these strategies on the ordinal datasets provided. Deterimine which approach gives higher classification accuracy and discuss why."
   ]
  },
  {
   "cell_type": "code",
   "execution_count": null,
   "metadata": {
    "collapsed": true
   },
   "outputs": [],
   "source": []
  },
  {
   "cell_type": "markdown",
   "metadata": {},
   "source": [
    "### Q4\n",
    "Evaluating the model on the same data that we use to train the model is considered to be a major mistake in Machine Learning. Implement a hold–out or cross–validation evaluation strategy (you should implement this yourself and do not simply call existing implementations from `scikit-learn`). How does your estimate of effectiveness change, compared to testing on the training data? Explain why. (The result might surprise you!)"
   ]
  },
  {
   "cell_type": "code",
   "execution_count": null,
   "metadata": {
    "collapsed": true
   },
   "outputs": [],
   "source": []
  },
  {
   "cell_type": "markdown",
   "metadata": {},
   "source": [
    "### Q5\n",
    "Implement one of the advanced smoothing regimes (add-k, Good-Turing). Does changing the smoothing regime (or indeed, not smoothing at all) affect the effectiveness of the na¨ıve Bayes classifier? Explain why, or why not."
   ]
  },
  {
   "cell_type": "code",
   "execution_count": null,
   "metadata": {
    "collapsed": true
   },
   "outputs": [],
   "source": []
  },
  {
   "cell_type": "markdown",
   "metadata": {},
   "source": [
    "### Q6\n",
    "The Gaussian na¨ıve Bayes classifier assumes that numeric attributes come from a Gaussian distribution. Is this assumption always true for the numeric attributes in these datasets? Identify some cases where the Gaussian assumption is violated and describe any evidence (or lack thereof) that this has some effect on the NB classifier’s predictions."
   ]
  },
  {
   "cell_type": "code",
   "execution_count": null,
   "metadata": {
    "collapsed": true
   },
   "outputs": [],
   "source": []
  }
 ],
 "metadata": {
  "kernelspec": {
   "display_name": "Python 3",
   "language": "python",
   "name": "python3"
  },
  "language_info": {
   "codemirror_mode": {
    "name": "ipython",
    "version": 3
   },
   "file_extension": ".py",
   "mimetype": "text/x-python",
   "name": "python",
   "nbconvert_exporter": "python",
   "pygments_lexer": "ipython3",
   "version": "3.7.1"
  }
 },
 "nbformat": 4,
 "nbformat_minor": 4
}
